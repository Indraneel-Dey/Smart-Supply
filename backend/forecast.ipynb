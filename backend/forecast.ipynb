{
 "cells": [
  {
   "cell_type": "code",
   "execution_count": 37,
   "metadata": {},
   "outputs": [],
   "source": [
    "from tsf import TSF\n",
    "import pandas as pd\n",
    "\n",
    "from sklearn.linear_model import HuberRegressor\n",
    "from sklearn.ensemble import RandomForestRegressor, StackingRegressor\n",
    "from sklearn.svm import SVR\n",
    "from sklearn.neighbors import KNeighborsRegressor\n",
    "from sklearn.neural_network import MLPRegressor\n",
    "from sklearn.naive_bayes import GaussianNB\n",
    "from catboost import CatBoostRegressor\n",
    "from xgboost import XGBRegressor"
   ]
  },
  {
   "cell_type": "code",
   "execution_count": 2,
   "metadata": {},
   "outputs": [],
   "source": [
    "historical = pd.read_parquet(\"data/historical_inventory.parquet\")\n",
    "current = pd.read_parquet(\"data/current_inventory.parquet\")\n",
    "df = pd.concat([historical, current])\n",
    "df.to_parquet(\"data/inventory.parquet\")"
   ]
  },
  {
   "cell_type": "code",
   "execution_count": 8,
   "metadata": {},
   "outputs": [],
   "source": [
    "df = pd.read_parquet(\"data/inventory.parquet\")"
   ]
  },
  {
   "cell_type": "code",
   "execution_count": 9,
   "metadata": {},
   "outputs": [],
   "source": [
    "data = pd.DataFrame()\n",
    "for plant in df.plant_id.unique():\n",
    "    temp = df[df.plant_id == plant]\n",
    "    temporary = pd.DataFrame()\n",
    "    for material in temp.material_id.unique():\n",
    "        temp2 = temp[temp.material_id == material]\n",
    "        temp2.sort_values(by=\"inventory_month_end_date\", inplace=True)\n",
    "        temporary = pd.concat([temporary, temp2])\n",
    "    data = pd.concat([df, temporary])"
   ]
  },
  {
   "cell_type": "code",
   "execution_count": 51,
   "metadata": {},
   "outputs": [],
   "source": [
    "scores = {}\n",
    "forecasts = {}\n",
    "for plant in df.plant_id.unique():\n",
    "    temp = df[df.plant_id == plant]\n",
    "    tsf = TSF(temp, \"inventory_month_end_date\", \"inventory\", \"2024-03-31\", \"2024-03-31\", \"2025-03-31\", \"2025-03-31\", \"A-MAR\", \"A\", False, product_col=\"material_id\")\n",
    "    svr = SVR()\n",
    "    hr = HuberRegressor()\n",
    "    model = StackingRegressor(estimators=[(\"svr\", svr)], final_estimator=hr, passthrough=True)\n",
    "    data, model, total_scores, material_scores = tsf.tsf(1, 4, 0, True, False, False)\n",
    "    scores[plant] = total_scores\n",
    "    forecasts[plant] = data[data.index >= \"2024-03-31\"][['inventory', 'forecast']]\n",
    "scores = pd.DataFrame(scores).transpose()"
   ]
  },
  {
   "cell_type": "code",
   "execution_count": 52,
   "metadata": {},
   "outputs": [
    {
     "data": {
      "text/plain": [
       "1939.1264142857144"
      ]
     },
     "execution_count": 52,
     "metadata": {},
     "output_type": "execute_result"
    }
   ],
   "source": [
    "scores['mae'].mean()"
   ]
  },
  {
   "cell_type": "code",
   "execution_count": 19,
   "metadata": {},
   "outputs": [
    {
     "data": {
      "text/plain": [
       "1890.2293571428568"
      ]
     },
     "execution_count": 19,
     "metadata": {},
     "output_type": "execute_result"
    }
   ],
   "source": [
    "scores['mae'].mean()"
   ]
  }
 ],
 "metadata": {
  "kernelspec": {
   "display_name": "Python 3",
   "language": "python",
   "name": "python3"
  },
  "language_info": {
   "codemirror_mode": {
    "name": "ipython",
    "version": 3
   },
   "file_extension": ".py",
   "mimetype": "text/x-python",
   "name": "python",
   "nbconvert_exporter": "python",
   "pygments_lexer": "ipython3",
   "version": "3.11.8"
  }
 },
 "nbformat": 4,
 "nbformat_minor": 2
}
